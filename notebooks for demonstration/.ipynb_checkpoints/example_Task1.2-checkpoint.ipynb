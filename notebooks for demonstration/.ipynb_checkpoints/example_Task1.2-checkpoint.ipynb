{
 "cells": [
  {
   "cell_type": "markdown",
   "metadata": {},
   "source": [
    "### 1.2 - Напишите функцию на любом языке программирования (предпочтительно Python) принимающую название продукта (поле product) и возвращающую tuple , из таблицы “prices”. Где date_start(n) - это даты, отсортированные по возрастанию."
   ]
  },
  {
   "cell_type": "code",
   "execution_count": 1,
   "metadata": {},
   "outputs": [],
   "source": [
    "def my_func(product):\n",
    "\n",
    "    import psycopg2\n",
    "    import datetime\n",
    "\n",
    "    conn = psycopg2.connect(dbname='AdHacks', user='postgres',\n",
    "                            password='111222', host='localhost', port=\"5433\")\n",
    "    cursor = conn.cursor()\n",
    "\n",
    "    SQL1 = \"SELECT date_start, price FROM prices WHERE product = '\"\n",
    "    SQL2 = \"' ORDER BY date_start ASC;\"\n",
    "    SQL = SQL1 + str(product) + SQL2\n",
    "    cursor.execute(SQL)\n",
    "    records = cursor.fetchall()\n",
    "    cursor.close()\n",
    "    conn.close()\n",
    "    return([str(records[n][0]) for n in range(len(records))], [records[n][1] for n in range(len(records))])"
   ]
  },
  {
   "cell_type": "code",
   "execution_count": 2,
   "metadata": {},
   "outputs": [
    {
     "name": "stdout",
     "output_type": "stream",
     "text": [
      "(['2010-03-12', '2017-02-04'], [50, 45])\n"
     ]
    }
   ],
   "source": [
    "print(my_func('B'))"
   ]
  },
  {
   "cell_type": "code",
   "execution_count": null,
   "metadata": {},
   "outputs": [],
   "source": []
  }
 ],
 "metadata": {
  "kernelspec": {
   "display_name": "Python [conda env:root] *",
   "language": "python",
   "name": "conda-root-py"
  },
  "language_info": {
   "codemirror_mode": {
    "name": "ipython",
    "version": 3
   },
   "file_extension": ".py",
   "mimetype": "text/x-python",
   "name": "python",
   "nbconvert_exporter": "python",
   "pygments_lexer": "ipython3",
   "version": "3.6.7"
  }
 },
 "nbformat": 4,
 "nbformat_minor": 2
}
