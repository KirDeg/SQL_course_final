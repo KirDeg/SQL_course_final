{
 "cells": [
  {
   "cell_type": "markdown",
   "metadata": {},
   "source": [
    "### 3.2. Создайте функцию, которая принимает две даты date_start, date_end (по аналогии с первой функцией), затем строит и выводит корреляционную матрицу продаж (amount из таблицы revenue) за заданный промежуток времени. В данном случае условные \"случайные величины\" - это временные ряды продаж (amount) разных товаров."
   ]
  },
  {
   "cell_type": "code",
   "execution_count": 1,
   "metadata": {},
   "outputs": [],
   "source": [
    "def my_func32(date_start, date_end):\n",
    "    import psycopg2\n",
    "    from collections import defaultdict\n",
    "    import numpy as np\n",
    "    import pandas as pd\n",
    "    import datetime\n",
    "\n",
    "    #Подключаемся к БД:\n",
    "    conn = psycopg2.connect(dbname='AdHacks', user='postgres',\n",
    "                            password='111222', host='localhost', port=\"5433\")\n",
    "    cursor = conn.cursor()\n",
    "\n",
    "    # Составляем запрос:\n",
    "    SQL1 = \"SELECT DISTINCT product, SUM(revenue) AS revenue, date FROM revenue WHERE date BETWEEN '\"\n",
    "    SQL2 = \"' AND '\"\n",
    "    SQL3 = \"' GROUP BY date, product ORDER BY date;\"\n",
    "    SQL = SQL1 + date_start + SQL2 + date_end + SQL3\n",
    "    cursor.execute(SQL)\n",
    "    records = cursor.fetchall()\n",
    "    cursor.close()\n",
    "    conn.close()\n",
    "\n",
    "    #Формируем упорядоченный набор попавших дат за указанный период:\n",
    "    date_set = sorted(list({records[n][2] for n in range(len(records))}))\n",
    "    # Формируем набор товаров:\n",
    "    keys_set = (list({records[n][0] for n in range(len(records))}))\n",
    "\n",
    "    # Составляем словарь, где отражено, в какие даты была получена выручка, включая и нулевую:\n",
    "    dict1 = defaultdict(list)\n",
    "    for m, n, k in records:\n",
    "        dict1[k].append([m, n])\n",
    "\n",
    "    for item in date_set:\n",
    "        if len(dict1[item]) != len(keys_set):\n",
    "            for item2 in list(set(keys_set) - set(dict1[item][n][0] for n in range(len(dict1[item])))):\n",
    "                dict1[item].append([item2, 0])\n",
    "\n",
    "    # Делаем список значений словаря одномерным:\n",
    "    data_list = ([list(dict1.values())[n][j] for n in range(len(dict1.values())) for j in range(len(keys_set))])\n",
    "\n",
    "\n",
    "    # Строим финальный словарь с правильной последовательностью продаж:\n",
    "    dict_final = defaultdict(list)\n",
    "    for a, b in data_list:\n",
    "        dict_final[a].append(b)\n",
    "    # Рассчитываем корреляционную матрицу:\n",
    "    array_results = (np.corrcoef(list(dict_final.values())))\n",
    "\n",
    "    # Составляем таблицу из корреляционной матрицы:\n",
    "    null_values = np.zeros((len(array_results), 1))\n",
    "    corr_matrix = pd.DataFrame(np.hstack((null_values, array_results)), columns=[\"Товар\"] + sorted([n for n in keys_set]))\n",
    "    corr_matrix.loc[:,\"Товар\"] = sorted([n for n in keys_set])\n",
    "    corr_matrix.set_index(\"Товар\", inplace=True)\n",
    "\n",
    "    return corr_matrix"
   ]
  },
  {
   "cell_type": "code",
   "execution_count": 3,
   "metadata": {},
   "outputs": [
    {
     "name": "stdout",
     "output_type": "stream",
     "text": [
      "              A         B         C         D         E         G         H  \\\n",
      "Товар                                                                         \n",
      "A      1.000000  0.083235  0.062590  0.049714  0.100810  0.006385 -0.007290   \n",
      "B      0.083235  1.000000  0.028666  0.129882  0.033634  0.051690  0.058881   \n",
      "C      0.062590  0.028666  1.000000  0.015930  0.017488  0.055275  0.022671   \n",
      "D      0.049714  0.129882  0.015930  1.000000  0.053530  0.018822 -0.019953   \n",
      "E      0.100810  0.033634  0.017488  0.053530  1.000000 -0.012228  0.032403   \n",
      "G      0.006385  0.051690  0.055275  0.018822 -0.012228  1.000000  0.088740   \n",
      "H     -0.007290  0.058881  0.022671 -0.019953  0.032403  0.088740  1.000000   \n",
      "K      0.087204  0.019208  0.007818 -0.023457  0.052227  0.063599  0.019581   \n",
      "M      0.046329  0.104863 -0.007393  0.048593 -0.019578  0.008142 -0.009499   \n",
      "N      0.053726  0.034884 -0.036194 -0.008903  0.011300  0.011222  0.027987   \n",
      "X     -0.014294  0.025927  0.054787 -0.016605 -0.018384  0.068159  0.036276   \n",
      "Z      0.000855  0.026816 -0.030300  0.038767 -0.012464 -0.004755 -0.008445   \n",
      "\n",
      "              K         M         N         X         Z  \n",
      "Товар                                                    \n",
      "A      0.087204  0.046329  0.053726 -0.014294  0.000855  \n",
      "B      0.019208  0.104863  0.034884  0.025927  0.026816  \n",
      "C      0.007818 -0.007393 -0.036194  0.054787 -0.030300  \n",
      "D     -0.023457  0.048593 -0.008903 -0.016605  0.038767  \n",
      "E      0.052227 -0.019578  0.011300 -0.018384 -0.012464  \n",
      "G      0.063599  0.008142  0.011222  0.068159 -0.004755  \n",
      "H      0.019581 -0.009499  0.027987  0.036276 -0.008445  \n",
      "K      1.000000  0.043072 -0.010454 -0.028020  0.018482  \n",
      "M      0.043072  1.000000 -0.005773 -0.017780 -0.006605  \n",
      "N     -0.010454 -0.005773  1.000000 -0.011138  0.018847  \n",
      "X     -0.028020 -0.017780 -0.011138  1.000000 -0.011912  \n",
      "Z      0.018482 -0.006605  0.018847 -0.011912  1.000000  \n"
     ]
    }
   ],
   "source": [
    "print(my_func32('2000/01/01', '2015-06-01'))"
   ]
  },
  {
   "cell_type": "code",
   "execution_count": null,
   "metadata": {},
   "outputs": [],
   "source": []
  }
 ],
 "metadata": {
  "kernelspec": {
   "display_name": "Python [conda env:root] *",
   "language": "python",
   "name": "conda-root-py"
  },
  "language_info": {
   "codemirror_mode": {
    "name": "ipython",
    "version": 3
   },
   "file_extension": ".py",
   "mimetype": "text/x-python",
   "name": "python",
   "nbconvert_exporter": "python",
   "pygments_lexer": "ipython3",
   "version": "3.6.7"
  }
 },
 "nbformat": 4,
 "nbformat_minor": 2
}
